{
 "cells": [
  {
   "cell_type": "code",
   "execution_count": 1,
   "id": "c11aae15",
   "metadata": {},
   "outputs": [],
   "source": [
    "import numpy as np\n",
    "import matplotlib.pyplot as plt\n",
    "from sklearn.datasets import load_iris\n",
    "from sklearn.model_selection import train_test_split\n",
    "from sklearn.metrics import classification_report\n",
    "\n",
    "from sklearn.tree import DecisionTreeClassifier\n",
    "from sklearn.metrics import classification_report, accuracy_score\n",
    "import random\n",
    "from scipy import stats"
   ]
  },
  {
   "cell_type": "code",
   "execution_count": 2,
   "id": "08c8ac76",
   "metadata": {},
   "outputs": [
    {
     "name": "stdout",
     "output_type": "stream",
     "text": [
      "(105, 4)\n",
      "(105,)\n",
      "(45, 4)\n",
      "(45,)\n"
     ]
    }
   ],
   "source": [
    "iris = load_iris()\n",
    "X = iris.data\n",
    "y = iris.target\n",
    "\n",
    "X_train, X_test, y_train, y_test = train_test_split(X, y, \n",
    "                test_size=0.3, shuffle=True, random_state=42)\n",
    "print(X_train.shape)\n",
    "print(y_train.shape)\n",
    "print(X_test.shape)\n",
    "print(y_test.shape)"
   ]
  },
  {
   "cell_type": "code",
   "execution_count": 3,
   "id": "ab6fbe2e",
   "metadata": {},
   "outputs": [],
   "source": [
    "class Bagging:\n",
    "        \n",
    "    def __init__(self, boostrap, boostrap_ratio, tree_params, models ,with_no_replacement = True):\n",
    "        self.boostrap = boostrap\n",
    "        self.boostrap_ratio = boostrap_ratio\n",
    "        self.tree_params = tree_params\n",
    "        self.models = models\n",
    "        self.with_no_replacement = with_no_replacement\n",
    "                \n",
    "    def fit(self, X, y):\n",
    "        \n",
    "        m, n = X.shape\n",
    "      \n",
    "        sample_size = int(self.boostrap_ratio * len(X))\n",
    "\n",
    "        xsamples = np.zeros((self.boostrap, sample_size, n))\n",
    "        ysamples = np.zeros((self.boostrap, sample_size))\n",
    "\n",
    "        xsamples_oob = [] \n",
    "        ysamples_oob = []\n",
    "\n",
    "        #bootstrapping samples for each model\n",
    "        for i in range(self.boostrap):\n",
    "            \n",
    "            oob_index = []\n",
    "            index = []\n",
    "            \n",
    "            for j in range(sample_size):\n",
    "                idx = random.randrange(m) # with replacement\n",
    "                if (self.with_no_replacement):\n",
    "                    while idx in index:\n",
    "                        idx = random.randrange(m) # without replacement\n",
    "                index.append(idx)\n",
    "                oob_index.append(idx)\n",
    "                \n",
    "                xsamples[i, j, :] = X[idx]\n",
    "                ysamples[i, j] = y[idx]\n",
    "                \n",
    "            mask = np.zeros((m), dtype=bool)\n",
    "            mask[oob_index] = True\n",
    "            xsamples_oob.append(X[~mask])\n",
    "            ysamples_oob.append(y[~mask])\n",
    "    \n",
    "     \n",
    "        oob_score = 0\n",
    "        print(\"_______Bagging score for each tree_______\")\n",
    "        for i, model in enumerate(self.models):\n",
    "            \n",
    "            _X = xsamples[i]\n",
    "            _y = ysamples[i]\n",
    "            model.fit(_X, _y)\n",
    "\n",
    "            #calculating oob score\n",
    "            _X_test = np.asarray(xsamples_oob[i])\n",
    "            _y_test = np.asarray(ysamples_oob[i])\n",
    "            \n",
    "            yhat = model.predict(_X_test)\n",
    "            oob_score += accuracy_score(_y_test, yhat)\n",
    "            \n",
    "            print(\"Tree \", accuracy_score(_y_test, yhat))\n",
    "            \n",
    "        self.avg_oob_score = oob_score / len(self.models)\n",
    "        print(\"________Average out of bag score________\")\n",
    "        print(self.avg_oob_score)\n",
    "    \n",
    "    def predict(self, X): \n",
    "        #make prediction and return the probabilities\n",
    "        predictions = np.zeros((self.boostrap, X.shape[0]))\n",
    "        for i, model in enumerate(self.models):\n",
    "            yhat = model.predict(X)\n",
    "            predictions[i, :] = yhat\n",
    "        return stats.mode(predictions)[0][0]\n",
    "\n"
   ]
  },
  {
   "cell_type": "code",
   "execution_count": 4,
   "id": "064328e7",
   "metadata": {},
   "outputs": [
    {
     "name": "stdout",
     "output_type": "stream",
     "text": [
      "_______Bagging score for each tree_______\n",
      "Tree  0.9047619047619048\n",
      "Tree  0.8571428571428571\n",
      "Tree  0.7619047619047619\n",
      "Tree  0.8571428571428571\n",
      "Tree  0.9523809523809523\n",
      "________Average out of bag score________\n",
      "0.8666666666666666\n",
      "              precision    recall  f1-score   support\n",
      "\n",
      "           0       1.00      0.84      0.91        19\n",
      "           1       0.81      1.00      0.90        13\n",
      "           2       1.00      1.00      1.00        13\n",
      "\n",
      "    accuracy                           0.93        45\n",
      "   macro avg       0.94      0.95      0.94        45\n",
      "weighted avg       0.95      0.93      0.93        45\n",
      "\n"
     ]
    }
   ],
   "source": [
    "boostrap = 5\n",
    "boostrap_ratio = 0.8\n",
    "\n",
    "tree_params = {'max_depth': 2, 'max_features': 'sqrt'}\n",
    "models = [DecisionTreeClassifier(**tree_params) for i in range(boostrap)]\n",
    "\n",
    "model = Bagging(boostrap,boostrap_ratio,tree_params,models)\n",
    "model.fit(X_train, y_train)\n",
    "yhat = model.predict(X_test)\n",
    "print(classification_report(y_test, yhat))"
   ]
  },
  {
   "cell_type": "code",
   "execution_count": null,
   "id": "02d3e627",
   "metadata": {},
   "outputs": [],
   "source": []
  },
  {
   "cell_type": "code",
   "execution_count": null,
   "id": "67d750d7",
   "metadata": {},
   "outputs": [],
   "source": []
  }
 ],
 "metadata": {
  "kernelspec": {
   "display_name": "pythonDSAI",
   "language": "python",
   "name": "pythondsai"
  },
  "language_info": {
   "codemirror_mode": {
    "name": "ipython",
    "version": 3
   },
   "file_extension": ".py",
   "mimetype": "text/x-python",
   "name": "python",
   "nbconvert_exporter": "python",
   "pygments_lexer": "ipython3",
   "version": "3.9.5"
  }
 },
 "nbformat": 4,
 "nbformat_minor": 5
}
