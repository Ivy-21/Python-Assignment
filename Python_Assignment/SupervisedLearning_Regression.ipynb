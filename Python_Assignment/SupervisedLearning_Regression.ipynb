{
 "cells": [
  {
   "cell_type": "code",
   "execution_count": 1,
   "id": "f0b0422d",
   "metadata": {},
   "outputs": [],
   "source": [
    "from sklearn.datasets import load_boston\n",
    "import numpy as np\n",
    "\n",
    "boston = load_boston()"
   ]
  },
  {
   "cell_type": "code",
   "execution_count": 2,
   "id": "38dbef2c",
   "metadata": {},
   "outputs": [],
   "source": [
    "X = boston.data\n",
    "X.shape \n",
    "\n",
    "m = X.shape[0]  \n",
    "n = X.shape[1]  "
   ]
  },
  {
   "cell_type": "code",
   "execution_count": 3,
   "id": "07deff46",
   "metadata": {},
   "outputs": [],
   "source": [
    "y = boston.target"
   ]
  },
  {
   "cell_type": "code",
   "execution_count": 4,
   "id": "7e1e9f21",
   "metadata": {},
   "outputs": [],
   "source": [
    "\n",
    "assert m == y.shape[0]"
   ]
  },
  {
   "cell_type": "code",
   "execution_count": 5,
   "id": "84a31837",
   "metadata": {},
   "outputs": [],
   "source": [
    "from sklearn.preprocessing import StandardScaler\n",
    "\n",
    "scaler = StandardScaler()\n",
    "\n",
    "X = scaler.fit_transform(X)"
   ]
  },
  {
   "cell_type": "code",
   "execution_count": 6,
   "id": "fabb98f9",
   "metadata": {},
   "outputs": [],
   "source": [
    "from sklearn.model_selection import train_test_split\n",
    "\n",
    "X_train, X_test, y_train, y_test = train_test_split(X, y, test_size = 0.3)\n",
    "\n",
    "assert len(X_train)  == len(y_train)\n",
    "assert len(X_test) == len(y_test)"
   ]
  },
  {
   "cell_type": "code",
   "execution_count": 7,
   "id": "56de8978",
   "metadata": {},
   "outputs": [],
   "source": [
    "# np.ones((shape))\n",
    "intercept = np.ones((X_train.shape[0], 1))\n",
    "\n",
    "# concatenate the intercept based on axis=1\n",
    "X_train = np.concatenate((intercept, X_train), axis=1)\n",
    "\n",
    "# np.ones((shape))\n",
    "intercept = np.ones((X_test.shape[0], 1))\n",
    "\n",
    "# concatenate the intercept based on axis=1\n",
    "X_test = np.concatenate((intercept, X_test), axis=1)"
   ]
  },
  {
   "cell_type": "code",
   "execution_count": 8,
   "id": "c4bce25b",
   "metadata": {},
   "outputs": [],
   "source": [
    "from numpy.linalg import inv\n",
    "\n",
    "def closed_form(X, y):\n",
    "    return inv(X.T @ X) @ X.T @ y"
   ]
  },
  {
   "cell_type": "code",
   "execution_count": 9,
   "id": "c92612db",
   "metadata": {},
   "outputs": [
    {
     "data": {
      "text/plain": [
       "array([22.37324743, -0.86424494,  1.16733392,  0.22797558,  0.6492914 ,\n",
       "       -1.77221539,  3.00159298, -0.70565601, -2.92807766,  2.32791829,\n",
       "       -2.1221481 , -1.72004776,  1.03912541, -3.02286479])"
      ]
     },
     "execution_count": 9,
     "metadata": {},
     "output_type": "execute_result"
    }
   ],
   "source": [
    "\n",
    "theta = closed_form(X_train, y_train)\n",
    "theta  "
   ]
  },
  {
   "cell_type": "code",
   "execution_count": 10,
   "id": "efc0c307",
   "metadata": {},
   "outputs": [],
   "source": [
    "yhat = X_test @ theta \n",
    "\n",
    "assert y_test.shape == yhat.shape"
   ]
  },
  {
   "cell_type": "code",
   "execution_count": 11,
   "id": "e2beac4a",
   "metadata": {},
   "outputs": [
    {
     "name": "stdout",
     "output_type": "stream",
     "text": [
      "Mean squared errors:  30.37440514794627\n"
     ]
    }
   ],
   "source": [
    "mse = ((y_test - yhat)**2).sum() / X_test.shape[0]\n",
    "print(\"Mean squared errors: \", mse)"
   ]
  },
  {
   "cell_type": "code",
   "execution_count": 18,
   "id": "98ca68aa",
   "metadata": {},
   "outputs": [],
   "source": [
    "from time import time\n",
    "\n",
    "assert X_train.shape[0] == y_train.shape[0]\n",
    "\n",
    "theta = np.zeros(X_train.shape[1])\n",
    "\n",
    "alpha = 0.0001\n",
    "\n",
    "max_iter = 1000\n",
    "\n",
    "loss_old = 10000\n",
    "\n",
    "tol = 0.0001\n",
    "\n",
    "iter_stop = 0\n",
    "\n",
    "def h_theta(X, theta):\n",
    "    return X @ theta\n",
    "\n",
    "def mse(yhat, y):\n",
    "    return ((yhat - y)**2).sum() / yhat.shape[0]\n",
    "\n",
    "def gradient(X, error):\n",
    "    return X.T @ error\n",
    "\n",
    "start = time()\n",
    "\n",
    "# define your for loop\n",
    "for i in range(max_iter):\n",
    "    \n",
    "    t = task()\n",
    "    \n",
    "    t.minibatch(X_train,y_train,batch_size)\n",
    "    \n",
    "    t.earlystopping(X_train,y_train)\n",
    "    \n",
    "    yhat = h_theta(X_train, theta)\n",
    "  \n",
    "    t.Stochastic(X_train,y_train)\n",
    "    \n",
    "\n",
    "    \n",
    "    error = yhat - y_train\n",
    "    grad = gradient(X_train, error)\n",
    "    theta = theta - alpha * grad\n",
    "\n",
    "time_taken = time() - start"
   ]
  },
  {
   "cell_type": "code",
   "execution_count": 19,
   "id": "a4db148a",
   "metadata": {},
   "outputs": [],
   "source": [
    "\n",
    "yhat = h_theta(X_test, theta)\n",
    "\n",
    "mse = mse(yhat, y_test)\n",
    "\n",
    "print(\"MSE: \", mse)\n",
    "print(\"Stop at iteration: \", iter_stop)\n",
    "print(\"Time used: \", time_taken)"
   ]
  },
  {
   "cell_type": "code",
   "execution_count": 15,
   "id": "598f0f7f",
   "metadata": {},
   "outputs": [],
   "source": [
    "class task:\n",
    "    \n",
    "    def __int__(self,X_train,y_train,batch_size):\n",
    "        self.X_train = X_train\n",
    "        self.y_train = y_train\n",
    "        self.batch_size = batch_size\n",
    "        \n",
    "    def Stochastic(slef,X_train,y_train):\n",
    "        rand = np.random.randint(0,n)\n",
    "        X_train = X_train[rand,:]\n",
    "        y_train = y_train[rand]\n",
    "        return X_triain,y_train\n",
    "    \n",
    "    def minibatch(self,X_train,y_train,theta,batch_size = 10):\n",
    "        for j in range(0,batch_size):\n",
    "            X_train = X[j:j+batch_size]\n",
    "            y_train = y[j:j+batch_size]\n",
    "        return X_train,y_train\n",
    "        \n",
    "    def earlystopping(self,X_train,y_train,theta):\n",
    "        for i in range(max_iter):\n",
    "            yhat = h_theta(X_test, theta)\n",
    "            current_loss = mse(yhat, y_test)\n",
    "            different = np.absolute(current_loss - loss_old)\n",
    "            if different < tol:\n",
    "                break\n",
    "        return different\n",
    "   \n",
    "\n",
    "\n"
   ]
  },
  {
   "cell_type": "code",
   "execution_count": null,
   "id": "eb971f35",
   "metadata": {},
   "outputs": [],
   "source": []
  }
 ],
 "metadata": {
  "kernelspec": {
   "display_name": "pythonDSAI",
   "language": "python",
   "name": "pythondsai"
  },
  "language_info": {
   "codemirror_mode": {
    "name": "ipython",
    "version": 3
   },
   "file_extension": ".py",
   "mimetype": "text/x-python",
   "name": "python",
   "nbconvert_exporter": "python",
   "pygments_lexer": "ipython3",
   "version": "3.9.5"
  }
 },
 "nbformat": 4,
 "nbformat_minor": 5
}
