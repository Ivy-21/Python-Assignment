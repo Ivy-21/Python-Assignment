{
 "cells": [
  {
   "cell_type": "code",
   "execution_count": 1,
   "id": "9a5341d3",
   "metadata": {},
   "outputs": [],
   "source": [
    "from sklearn.metrics import pairwise_distances_argmin\n",
    "from sklearn.datasets import make_blobs\n",
    "from time import time\n",
    "import numpy as np"
   ]
  },
  {
   "cell_type": "code",
   "execution_count": 2,
   "id": "62c61f12",
   "metadata": {},
   "outputs": [],
   "source": [
    "class KMeans:\n",
    "    def __init__(self, k, method = 'KMeans', replacement=True, batch_size=100, max_iter=100):\n",
    "        self.k = k\n",
    "        self.method = method\n",
    "        self.replacement=replacement\n",
    "        self.batch_size = batch_size\n",
    "        self.max_iter = max_iter\n",
    "        \n",
    "    def fit(self, X):\n",
    "        m,n = X.shape\n",
    "        \n",
    "        #1. randomly choose k clusters from X\n",
    "        rng = np.random.RandomState(99)\n",
    "        i = rng.permutation(m)[:self.k]\n",
    "        self.centers = X[i]\n",
    "        \n",
    "        \n",
    "        #having max iter makes sure it will stop eventually\n",
    "        for ix in np.arange(self.max_iter):\n",
    "            \n",
    "            if self.method == 'KMeans':\n",
    "                X_ = X\n",
    "            elif self.method == 'mini_batch_KMeans':\n",
    "                random = rng.randint(m)\n",
    "                X_ = X[random:random+self.batch_size]\n",
    "                \n",
    "            \n",
    "\n",
    "            #2. assign labels based on closest center\n",
    "            labels = pairwise_distances_argmin(X_, self.centers)\n",
    "\n",
    "            #3. find new centers\n",
    "            new_centers = []\n",
    "            for i in range(self.k):\n",
    "                new_centers.append(X_[labels == i].mean(axis=0))\n",
    "\n",
    "            #convert list to np.array; you can actually combine #3\n",
    "            #with np.array in one sentence \n",
    "            new_centers = np.array(new_centers)\n",
    "\n",
    "            #4 stopping criteria - if centers do not \n",
    "            #change anymore, we stop!\n",
    "            #make sure to add rtol or atol since mini-batch does not converge\n",
    "            if(np.allclose(self.centers, new_centers, rtol=0.2)):\n",
    "                break\n",
    "            else:\n",
    "                self.centers = new_centers\n",
    "\n",
    "        print(f\"Done in {ix} iterations\")\n",
    "        \n",
    "        \n",
    "        #compute total within-variation score\n",
    "        total_with_variation_score = 0\n",
    "        labels = pairwise_distances_argmin(X, self.centers)\n",
    "        #labels = pairwise_distances_argmin(X_batch, self.centers)\n",
    "        \n",
    "        for i in range(self.k):\n",
    "            cluster_mean = X[labels==i].mean(axis=0)\n",
    "            total_with_variation_score += ((X[labels==i] - cluster_mean)** 2).sum()\n",
    "#             cluster_mean = X_batch[labels==i].mean(axis=0)\n",
    "#             total_with_variation_score += ((X_batch[labels==i] - cluster_mean)** 2).sum()\n",
    "            \n",
    "        print(\"Total with variation score: \", total_with_variation_score)\n",
    "\n",
    "            \n",
    "            \n",
    "    def predict(self, X):\n",
    "        return pairwise_distances_argmin(X, self.centers)\n",
    "        \n",
    "        "
   ]
  },
  {
   "cell_type": "code",
   "execution_count": 3,
   "id": "0e7b45c1",
   "metadata": {},
   "outputs": [],
   "source": [
    "X, y_true = make_blobs(n_samples=1500, centers=4, cluster_std=0.60, random_state=0)"
   ]
  },
  {
   "cell_type": "code",
   "execution_count": 4,
   "id": "761cb55b",
   "metadata": {},
   "outputs": [
    {
     "name": "stdout",
     "output_type": "stream",
     "text": [
      "_____k = 2_____\n",
      "Done in 6 iterations\n",
      "Total with variation score:  5859.027548790498\n",
      "Fit and predict time 0.014862060546875\n",
      "_____k = 3_____\n",
      "Done in 3 iterations\n",
      "Total with variation score:  2849.7266714358066\n",
      "Fit and predict time 0.006865024566650391\n",
      "_____k = 4_____\n",
      "Done in 9 iterations\n",
      "Total with variation score:  1007.7374341654453\n",
      "Fit and predict time 0.009994983673095703\n",
      "_____k = 5_____\n",
      "Done in 9 iterations\n",
      "Total with variation score:  920.8127407429872\n",
      "Fit and predict time 0.009394168853759766\n",
      "_____k = 6_____\n",
      "Done in 3 iterations\n",
      "Total with variation score:  841.4034939553978\n",
      "Fit and predict time 0.009680032730102539\n"
     ]
    }
   ],
   "source": [
    "for k in range(2, 7):\n",
    "    print(f\"_____k = {k}_____\")\n",
    "    start = time()\n",
    "    model = KMeans(k, method = 'mini_batch_KMeans')\n",
    "    model.fit(X)\n",
    "    preds = model.predict(X)\n",
    "    print(f\"Fit and predict time {time() - start}\")"
   ]
  },
  {
   "cell_type": "markdown",
   "id": "3e68ff03",
   "metadata": {},
   "source": [
    "With Mini_Batch_KMeans, k = 3 is the best because less iteration and no longer fit time.\n"
   ]
  },
  {
   "cell_type": "code",
   "execution_count": 5,
   "id": "a2628094",
   "metadata": {},
   "outputs": [
    {
     "name": "stdout",
     "output_type": "stream",
     "text": [
      "_____k = 2_____\n",
      "Done in 2 iterations\n",
      "Total with variation score:  7257.279283725391\n",
      "Fit and predict time 0.008738040924072266\n",
      "_____k = 3_____\n",
      "Done in 7 iterations\n",
      "Total with variation score:  2494.026049977925\n",
      "Fit and predict time 0.013726949691772461\n",
      "_____k = 4_____\n",
      "Done in 6 iterations\n",
      "Total with variation score:  1006.5440417040327\n",
      "Fit and predict time 0.010484933853149414\n",
      "_____k = 5_____\n",
      "Done in 3 iterations\n",
      "Total with variation score:  919.6988320968405\n",
      "Fit and predict time 0.0073740482330322266\n",
      "_____k = 6_____\n",
      "Done in 3 iterations\n",
      "Total with variation score:  855.6152494347657\n",
      "Fit and predict time 0.0074481964111328125\n"
     ]
    }
   ],
   "source": [
    "for k in range(2, 7):\n",
    "    print(f\"_____k = {k}_____\")\n",
    "    start = time()\n",
    "    model = KMeans(k, method = 'KMeans')\n",
    "    model.fit(X)\n",
    "    preds = model.predict(X)\n",
    "    print(f\"Fit and predict time {time() - start}\")"
   ]
  },
  {
   "cell_type": "markdown",
   "id": "fd442c21",
   "metadata": {},
   "source": [
    "With KMeans, k = 2 is the best because of less iteration."
   ]
  },
  {
   "cell_type": "code",
   "execution_count": null,
   "id": "d6d7c1e3",
   "metadata": {},
   "outputs": [],
   "source": []
  }
 ],
 "metadata": {
  "kernelspec": {
   "display_name": "pythonDSAI",
   "language": "python",
   "name": "pythondsai"
  },
  "language_info": {
   "codemirror_mode": {
    "name": "ipython",
    "version": 3
   },
   "file_extension": ".py",
   "mimetype": "text/x-python",
   "name": "python",
   "nbconvert_exporter": "python",
   "pygments_lexer": "ipython3",
   "version": "3.9.5"
  }
 },
 "nbformat": 4,
 "nbformat_minor": 5
}
